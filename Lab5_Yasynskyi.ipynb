{
  "nbformat": 4,
  "nbformat_minor": 0,
  "metadata": {
    "colab": {
      "name": "Untitled5.ipynb",
      "provenance": [],
      "collapsed_sections": [],
      "authorship_tag": "ABX9TyOKOAXocieIXxO4aCVOftDv",
      "include_colab_link": true
    },
    "kernelspec": {
      "name": "python3",
      "display_name": "Python 3"
    },
    "language_info": {
      "name": "python"
    }
  },
  "cells": [
    {
      "cell_type": "markdown",
      "metadata": {
        "id": "view-in-github",
        "colab_type": "text"
      },
      "source": [
        "<a href=\"https://colab.research.google.com/github/PTIch06/YasynskyiColab/blob/main/Lab5_Yasynskyi.ipynb\" target=\"_parent\"><img src=\"https://colab.research.google.com/assets/colab-badge.svg\" alt=\"Open In Colab\"/></a>"
      ]
    },
    {
      "cell_type": "markdown",
      "source": [
        "#Лабораторна робота №5\n",
        "##з дисципліни \"Нейронні мережі\"\n",
        "###студента групи КН-31/2\n",
        "###Ясинського Дениса\n",
        "###Варіант №11"
      ],
      "metadata": {
        "id": "HewFG_7WqJMw"
      }
    },
    {
      "cell_type": "markdown",
      "source": [
        "1. На основі документу вирішити завдання класифікації зображень їжі для 3 класів з набору даних food101\n",
        "2. Індекси класів визначити індивідуально за залежностями: i1=n-1,i2=n+29,i3=n+59 (де і1,і2,і3 - індекс класу (починаючи з 0) у відсортованому за алфавітом наборі даних, n - номер за списком групи.\n",
        "\n",
        "Варіант: 10, 40, 70\n"
      ],
      "metadata": {
        "id": "MsVz1YPbqLmm"
      }
    },
    {
      "cell_type": "code",
      "source": [
        "import zipfile\n",
        "\n",
        "!wget https://storage.googleapis.com/ztm_tf_course/food_vision/101_food_classes_10_percent.zip\n",
        "\n",
        "zip_ref = zipfile.ZipFile(\"101_food_classes_10_percent.zip\", \"r\")\n",
        "zip_ref.extractall()\n",
        "zip_ref.close()"
      ],
      "metadata": {
        "colab": {
          "base_uri": "https://localhost:8080/"
        },
        "id": "SFB3Cdz2qKgQ",
        "outputId": "16dcdc9e-34ef-4fd7-d9a6-78fef4a9351c"
      },
      "execution_count": 21,
      "outputs": [
        {
          "output_type": "stream",
          "name": "stdout",
          "text": [
            "--2022-05-23 21:21:07--  https://storage.googleapis.com/ztm_tf_course/food_vision/101_food_classes_10_percent.zip\n",
            "Resolving storage.googleapis.com (storage.googleapis.com)... 108.177.97.128, 142.250.157.128, 142.251.8.128, ...\n",
            "Connecting to storage.googleapis.com (storage.googleapis.com)|108.177.97.128|:443... connected.\n",
            "HTTP request sent, awaiting response... 200 OK\n",
            "Length: 1625420029 (1.5G) [application/zip]\n",
            "Saving to: ‘101_food_classes_10_percent.zip.1’\n",
            "\n",
            "101_food_classes_10 100%[===================>]   1.51G   165MB/s    in 8.4s    \n",
            "\n",
            "2022-05-23 21:21:16 (185 MB/s) - ‘101_food_classes_10_percent.zip.1’ saved [1625420029/1625420029]\n",
            "\n"
          ]
        }
      ]
    },
    {
      "cell_type": "code",
      "source": [
        "import pathlib\n",
        "import numpy as np\n",
        "import os\n",
        "\n",
        "#загальна кількість файлів\n",
        "data_dir_train = pathlib.Path(\"101_food_classes_10_percent/train/\") \n",
        "data_dir_test = pathlib.Path(\"101_food_classes_10_percent/test/\")\n",
        "num_food_images_train = len(os.listdir(data_dir_train))\n",
        "print('Count of images are in a file:', num_food_images_train)\n",
        "\n",
        "#фільтруємо згідно до варіанту\n",
        "arr_index = [10,40,70]\n",
        "class_names = np.array(sorted([item.name for item in data_dir_train.glob('*')]))\n",
        "new_class_names = [class_names[arr_index[0]], class_names[arr_index[1]],class_names[arr_index[2]]]\n",
        "print('Our classes:', new_class_names)"
      ],
      "metadata": {
        "colab": {
          "base_uri": "https://localhost:8080/"
        },
        "id": "qT2R_B8JXapF",
        "outputId": "7b27dc90-3b62-4798-a97d-31d953a20f41"
      },
      "execution_count": 22,
      "outputs": [
        {
          "output_type": "stream",
          "name": "stdout",
          "text": [
            "Count of images are in a file: 101\n",
            "Our classes: ['bruschetta', 'french_fries', 'pad_thai']\n"
          ]
        }
      ]
    },
    {
      "cell_type": "code",
      "source": [
        "from pathlib import Path\n",
        "import shutil\n",
        "\n",
        "#Видалимо класи, окрім заданих\n",
        "for name in class_names:\n",
        "  if name != new_class_names[0] and name != new_class_names[1] and name != new_class_names[2]:\n",
        "    dirpath = Path(data_dir_train) / name\n",
        "    dirpath_test = Path(data_dir_test) / name\n",
        "    if dirpath_test.exists() and dirpath_test.is_dir():\n",
        "        shutil.rmtree(dirpath)\n",
        "        shutil.rmtree(dirpath_test)\n",
        "print('Test:', os.listdir(data_dir_test))\n",
        "print('Train:', os.listdir(data_dir_train))"
      ],
      "metadata": {
        "colab": {
          "base_uri": "https://localhost:8080/"
        },
        "id": "CObO83nlYNlu",
        "outputId": "3c18ef3d-58f0-47fe-c5a9-450db08875ca"
      },
      "execution_count": 23,
      "outputs": [
        {
          "output_type": "stream",
          "name": "stdout",
          "text": [
            "Test: ['pad_thai', 'bruschetta', 'french_fries']\n",
            "Train: ['pad_thai', 'bruschetta', 'french_fries']\n"
          ]
        }
      ]
    },
    {
      "cell_type": "code",
      "source": [
        "#Знормуємо, та перетворимо файли у дані\n",
        "\n",
        "import tensorflow as tf\n",
        "from tensorflow.keras.preprocessing.image import ImageDataGenerator\n",
        "\n",
        "tf.random.set_seed(42)\n",
        "\n",
        "train_datagen = ImageDataGenerator(rescale=1./255)\n",
        "valid_datagen = ImageDataGenerator(rescale=1./255)\n",
        "\n",
        "train_data = train_datagen.flow_from_directory(train_dir,\n",
        "                                               target_size=(224, 224),\n",
        "                                               batch_size=32,\n",
        "                                               class_mode='categorical')\n",
        "\n",
        "test_data = train_datagen.flow_from_directory(test_dir,\n",
        "                                              target_size=(224, 224),\n",
        "                                              batch_size=32,\n",
        "                                              class_mode='categorical')\n",
        "\n",
        "train_datagen_augmented = ImageDataGenerator(rescale=1/255.,\n",
        "                                             rotation_range=20, \n",
        "                                             width_shift_range=0.2,\n",
        "                                             height_shift_range=0.2,\n",
        "                                             zoom_range=0.2,\n",
        "                                             horizontal_flip=True)\n",
        "\n",
        "train_data_augmented = train_datagen_augmented.flow_from_directory(train_dir,\n",
        "                                                                  target_size=(224, 224),\n",
        "                                                                  batch_size=32,\n",
        "                                                                  class_mode='categorical')"
      ],
      "metadata": {
        "colab": {
          "base_uri": "https://localhost:8080/"
        },
        "id": "aoKNzhVCseSU",
        "outputId": "8b7e9508-a266-4b98-faeb-063094d1f216"
      },
      "execution_count": 25,
      "outputs": [
        {
          "output_type": "stream",
          "name": "stdout",
          "text": [
            "Found 750 images belonging to 3 classes.\n",
            "Found 225 images belonging to 3 classes.\n",
            "Found 750 images belonging to 3 classes.\n"
          ]
        }
      ]
    },
    {
      "cell_type": "code",
      "source": [
        "#Навчання\n",
        "import tensorflow as tf\n",
        "from tensorflow.keras.models import Sequential\n",
        "from tensorflow.keras.layers import Conv2D, MaxPool2D, Flatten, Dense\n",
        "\n",
        "model = Sequential([\n",
        "  Conv2D(32, 3, activation='relu', input_shape=(224, 224, 3)),\n",
        "  MaxPool2D(),\n",
        "  Conv2D(32, 3, activation='relu'),\n",
        "  MaxPool2D(),\n",
        "  Flatten(),\n",
        "  Dense(3, activation='softmax')\n",
        "])\n",
        "\n",
        "model.compile(loss=\"categorical_crossentropy\",\n",
        "              optimizer=tf.keras.optimizers.Adam(),\n",
        "              metrics=[\"accuracy\"])\n",
        "\n",
        "history_model = model.fit(train_data_augmented,\n",
        "                          epochs=30,\n",
        "                          steps_per_epoch=len(train_data_augmented),\n",
        "                          validation_data=test_data,\n",
        "                          validation_steps=len(test_data))"
      ],
      "metadata": {
        "colab": {
          "base_uri": "https://localhost:8080/"
        },
        "id": "mcQIUO4ezIcE",
        "outputId": "73a937e4-b1a8-4aa9-e8dc-5ce423bc622c"
      },
      "execution_count": 29,
      "outputs": [
        {
          "output_type": "stream",
          "name": "stdout",
          "text": [
            "Epoch 1/30\n",
            "24/24 [==============================] - 51s 2s/step - loss: 1.3828 - accuracy: 0.3747 - val_loss: 1.0486 - val_accuracy: 0.4622\n",
            "Epoch 2/30\n",
            "24/24 [==============================] - 73s 3s/step - loss: 1.0185 - accuracy: 0.4960 - val_loss: 1.0088 - val_accuracy: 0.5111\n",
            "Epoch 3/30\n",
            "24/24 [==============================] - 50s 2s/step - loss: 0.9552 - accuracy: 0.5587 - val_loss: 0.9395 - val_accuracy: 0.5733\n",
            "Epoch 4/30\n",
            "24/24 [==============================] - 50s 2s/step - loss: 0.8722 - accuracy: 0.6173 - val_loss: 0.9000 - val_accuracy: 0.5600\n",
            "Epoch 5/30\n",
            "24/24 [==============================] - 50s 2s/step - loss: 0.8595 - accuracy: 0.6120 - val_loss: 1.2140 - val_accuracy: 0.4844\n",
            "Epoch 6/30\n",
            "24/24 [==============================] - 51s 2s/step - loss: 0.8518 - accuracy: 0.6240 - val_loss: 0.8212 - val_accuracy: 0.6356\n",
            "Epoch 7/30\n",
            "24/24 [==============================] - 50s 2s/step - loss: 0.8041 - accuracy: 0.6560 - val_loss: 0.8405 - val_accuracy: 0.6222\n",
            "Epoch 8/30\n",
            "24/24 [==============================] - 50s 2s/step - loss: 0.7479 - accuracy: 0.6840 - val_loss: 0.8963 - val_accuracy: 0.6178\n",
            "Epoch 9/30\n",
            "24/24 [==============================] - 50s 2s/step - loss: 0.7609 - accuracy: 0.6747 - val_loss: 0.9881 - val_accuracy: 0.5778\n",
            "Epoch 10/30\n",
            "24/24 [==============================] - 50s 2s/step - loss: 0.7605 - accuracy: 0.6920 - val_loss: 0.7426 - val_accuracy: 0.6756\n",
            "Epoch 11/30\n",
            "24/24 [==============================] - 50s 2s/step - loss: 0.7101 - accuracy: 0.6947 - val_loss: 0.8548 - val_accuracy: 0.6444\n",
            "Epoch 12/30\n",
            "24/24 [==============================] - 50s 2s/step - loss: 0.7600 - accuracy: 0.6693 - val_loss: 1.1286 - val_accuracy: 0.5778\n",
            "Epoch 13/30\n",
            "24/24 [==============================] - 49s 2s/step - loss: 0.7147 - accuracy: 0.7160 - val_loss: 0.8322 - val_accuracy: 0.6533\n",
            "Epoch 14/30\n",
            "24/24 [==============================] - 50s 2s/step - loss: 0.7153 - accuracy: 0.7013 - val_loss: 0.8345 - val_accuracy: 0.6578\n",
            "Epoch 15/30\n",
            "24/24 [==============================] - 50s 2s/step - loss: 0.6823 - accuracy: 0.7227 - val_loss: 0.7923 - val_accuracy: 0.6667\n",
            "Epoch 16/30\n",
            "24/24 [==============================] - 50s 2s/step - loss: 0.7037 - accuracy: 0.7187 - val_loss: 0.9417 - val_accuracy: 0.6089\n",
            "Epoch 17/30\n",
            "24/24 [==============================] - 50s 2s/step - loss: 0.7150 - accuracy: 0.7120 - val_loss: 0.9701 - val_accuracy: 0.6267\n",
            "Epoch 18/30\n",
            "24/24 [==============================] - 49s 2s/step - loss: 0.6788 - accuracy: 0.7120 - val_loss: 0.8967 - val_accuracy: 0.6400\n",
            "Epoch 19/30\n",
            "24/24 [==============================] - 50s 2s/step - loss: 0.6480 - accuracy: 0.7080 - val_loss: 0.8334 - val_accuracy: 0.6844\n",
            "Epoch 20/30\n",
            "24/24 [==============================] - 49s 2s/step - loss: 0.6587 - accuracy: 0.7120 - val_loss: 0.7878 - val_accuracy: 0.6844\n",
            "Epoch 21/30\n",
            "24/24 [==============================] - 50s 2s/step - loss: 0.6589 - accuracy: 0.7200 - val_loss: 0.7551 - val_accuracy: 0.6978\n",
            "Epoch 22/30\n",
            "24/24 [==============================] - 49s 2s/step - loss: 0.6030 - accuracy: 0.7640 - val_loss: 0.7651 - val_accuracy: 0.6933\n",
            "Epoch 23/30\n",
            "24/24 [==============================] - 50s 2s/step - loss: 0.6758 - accuracy: 0.7187 - val_loss: 0.9451 - val_accuracy: 0.6711\n",
            "Epoch 24/30\n",
            "24/24 [==============================] - 50s 2s/step - loss: 0.6130 - accuracy: 0.7720 - val_loss: 0.7506 - val_accuracy: 0.7067\n",
            "Epoch 25/30\n",
            "24/24 [==============================] - 49s 2s/step - loss: 0.6377 - accuracy: 0.7240 - val_loss: 0.8487 - val_accuracy: 0.6978\n",
            "Epoch 26/30\n",
            "24/24 [==============================] - 49s 2s/step - loss: 0.6646 - accuracy: 0.7507 - val_loss: 0.7832 - val_accuracy: 0.7111\n",
            "Epoch 27/30\n",
            "24/24 [==============================] - 49s 2s/step - loss: 0.5505 - accuracy: 0.7680 - val_loss: 0.8205 - val_accuracy: 0.6756\n",
            "Epoch 28/30\n",
            "24/24 [==============================] - 49s 2s/step - loss: 0.5887 - accuracy: 0.7693 - val_loss: 0.9975 - val_accuracy: 0.6844\n",
            "Epoch 29/30\n",
            "24/24 [==============================] - 49s 2s/step - loss: 0.5900 - accuracy: 0.7653 - val_loss: 0.7536 - val_accuracy: 0.6978\n",
            "Epoch 30/30\n",
            "24/24 [==============================] - 49s 2s/step - loss: 0.6083 - accuracy: 0.7440 - val_loss: 0.9796 - val_accuracy: 0.6756\n"
          ]
        }
      ]
    },
    {
      "cell_type": "code",
      "source": [
        "#Побудуємо криві\n",
        "def plot_loss_curves(history):\n",
        "\n",
        "  loss = history.history['loss']\n",
        "  val_loss = history.history['val_loss']\n",
        "\n",
        "  accuracy = history.history['accuracy']\n",
        "  val_accuracy = history.history['val_accuracy']\n",
        "\n",
        "  epochs = range(len(history.history['loss']))\n",
        "\n",
        "  # Втрати\n",
        "  plt.plot(epochs, loss, label='training_loss')\n",
        "  plt.plot(epochs, val_loss, label='val_loss')\n",
        "  plt.title('Loss')\n",
        "  plt.xlabel('Epochs')\n",
        "  plt.legend()\n",
        "\n",
        "  # Точність\n",
        "  plt.figure()\n",
        "  plt.plot(epochs, accuracy, label='training_accuracy')\n",
        "  plt.plot(epochs, val_accuracy, label='val_accuracy')\n",
        "  plt.title('Accuracy')\n",
        "  plt.xlabel('Epochs')\n",
        "  plt.legend();\n",
        "  \n",
        "plot_loss_curves(history_model)"
      ],
      "metadata": {
        "colab": {
          "base_uri": "https://localhost:8080/",
          "height": 573
        },
        "id": "q3Dr3dJK0vV7",
        "outputId": "da9b82a8-e300-4124-de62-46849ab5464f"
      },
      "execution_count": 30,
      "outputs": [
        {
          "output_type": "display_data",
          "data": {
            "text/plain": [
              "<Figure size 432x288 with 1 Axes>"
            ],
            "image/png": "[encoded data removed]"
          },
          "metadata": {
            "needs_background": "light"
          }
        },
        {
          "output_type": "display_data",
          "data": {
            "text/plain": [
              "<Figure size 432x288 with 1 Axes>"
            ],
            "image/png": "[encoded data removed]"
          },
          "metadata": {
            "needs_background": "light"
          }
        }
      ]
    }
  ]
}