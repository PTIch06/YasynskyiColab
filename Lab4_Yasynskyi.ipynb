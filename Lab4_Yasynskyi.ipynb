{
  "nbformat": 4,
  "nbformat_minor": 0,
  "metadata": {
    "colab": {
      "name": "Untitled4.ipynb",
      "provenance": [],
      "collapsed_sections": [],
      "authorship_tag": "ABX9TyN7UUF1pK3wbWsSKaEF67g+",
      "include_colab_link": true
    },
    "kernelspec": {
      "name": "python3",
      "display_name": "Python 3"
    },
    "language_info": {
      "name": "python"
    }
  },
  "cells": [
    {
      "cell_type": "markdown",
      "metadata": {
        "id": "view-in-github",
        "colab_type": "text"
      },
      "source": [
        "<a href=\"https://colab.research.google.com/github/PTIch06/YasynskyiColab/blob/main/Lab4_Yasynskyi.ipynb\" target=\"_parent\"><img src=\"https://colab.research.google.com/assets/colab-badge.svg\" alt=\"Open In Colab\"/></a>"
      ]
    },
    {
      "cell_type": "markdown",
      "source": [
        "#Лабораторна робота №4\n",
        "##з дисципліни \"Нейронні мережі\"\n",
        "###студента групи КН-31/2\n",
        "###Ясинського Дениса\n",
        "###Варіант №11"
      ],
      "metadata": {
        "id": "TDw8U0Cq9ocM"
      }
    },
    {
      "cell_type": "markdown",
      "source": [
        "1. На основі документу вирішити завдання класифікації для набору даних Fashion MNIST.\n",
        "2. Для моделювання використати 3 класи індекси яких взяти відповідно до номеру у списку групи.\n",
        "3. Моделювання провести із використанням нейронної мережі (Flatten & Dense layers).\n",
        "4. Здійснити вибір оптимального кроку градієнтного алгоритму (learning_rate), а також побудову Confusion Matrix.\n"
      ],
      "metadata": {
        "id": "dX1h6oRu9tDy"
      }
    },
    {
      "cell_type": "code",
      "source": [
        "import tensorflow as tf\n",
        "from tensorflow.keras.datasets import fashion_mnist\n",
        "\n",
        "(train_data, train_labels), (test_data, test_labels) = fashion_mnist.load_data()"
      ],
      "metadata": {
        "id": "SnwJhes59ryF"
      },
      "execution_count": 13,
      "outputs": []
    },
    {
      "cell_type": "markdown",
      "source": [
        "Завдання 1"
      ],
      "metadata": {
        "id": "gLR459mBrrav"
      }
    },
    {
      "cell_type": "code",
      "source": [
        "print(len(train_data), len(test_data))"
      ],
      "metadata": {
        "colab": {
          "base_uri": "https://localhost:8080/"
        },
        "id": "NucSs8GGrrgm",
        "outputId": "577e92a9-018c-4444-f68f-a3311773591e"
      },
      "execution_count": 16,
      "outputs": [
        {
          "output_type": "stream",
          "name": "stdout",
          "text": [
            "60000 10000\n"
          ]
        }
      ]
    },
    {
      "cell_type": "markdown",
      "source": [
        "Завдання 2"
      ],
      "metadata": {
        "id": "DXLVybfvryK1"
      }
    },
    {
      "cell_type": "code",
      "source": [
        "import numpy as np\n",
        "\n",
        "class_names = ['T-shirt','HeeledShoes', 'Sandal']\n",
        "\n",
        "new_train_data = []\n",
        "new_train_labels = []\n",
        "new_test_data = []\n",
        "new_test_labels = []\n",
        "\n",
        "for i in range(len(train_labels)):\n",
        "  if (train_labels[i]==0 or train_labels[i]==5 or train_labels[i]==7 ):\n",
        "    new_train_data.append(train_data[i])\n",
        "    new_train_labels.append(train_labels[i])\n",
        "for i in range(len(test_labels)):\n",
        "  if (test_labels[i]==0 or test_labels[i]==5 or test_labels[i]==7 ):\n",
        "    new_test_data.append(test_data[i])\n",
        "    new_test_labels.append(test_labels[i])\n",
        "\n",
        "print(len(new_train_data), len(new_test_data))\n",
        "\n",
        "print(new_train_data[0][5])\n",
        "\n",
        "new_train_labels = np.array(new_train_labels)\n",
        "new_test_labels = np.array(new_test_labels)\n",
        "new_train_data = np.array(new_train_data) / 255.0\n",
        "new_test_data = np.array(new_test_data) / 255.0\n",
        "\n",
        "print(new_train_data[0][5])"
      ],
      "metadata": {
        "colab": {
          "base_uri": "https://localhost:8080/"
        },
        "id": "P3JnZbqlryQr",
        "outputId": "09e96bd2-3409-499c-d73b-88c548339cdf"
      },
      "execution_count": 22,
      "outputs": [
        {
          "output_type": "stream",
          "name": "stdout",
          "text": [
            "18000 3000\n",
            "[  0   0   0   0 116 226 206 204 207 204 101  75  47  73  48  50  45  51\n",
            "  63 113 222 202 206 220 224   0   0   0]\n",
            "[0.         0.         0.         0.         0.45490196 0.88627451\n",
            " 0.80784314 0.8        0.81176471 0.8        0.39607843 0.29411765\n",
            " 0.18431373 0.28627451 0.18823529 0.19607843 0.17647059 0.2\n",
            " 0.24705882 0.44313725 0.87058824 0.79215686 0.80784314 0.8627451\n",
            " 0.87843137 0.         0.         0.        ]\n"
          ]
        }
      ]
    },
    {
      "cell_type": "code",
      "source": [
        "import matplotlib.pyplot as plt\n",
        "import random\n",
        "plt.figure(figsize=(7, 7))\n",
        "for i in range(3):\n",
        "  ax = plt.subplot(2, 2, i + 1)\n",
        "  rand_index = random.choice(range(len(new_train_data)))\n",
        "  plt.imshow(new_train_data[rand_index], cmap=plt.cm.binary)\n",
        "  plt.title(new_train_labels[rand_index])\n",
        "  plt.axis(False)"
      ],
      "metadata": {
        "colab": {
          "base_uri": "https://localhost:8080/",
          "height": 427
        },
        "id": "M2DHyroAtQBw",
        "outputId": "614c81b5-e6f6-4aa0-caf8-2e7e9d513a00"
      },
      "execution_count": 43,
      "outputs": [
        {
          "output_type": "display_data",
          "data": {
            "text/plain": [
              "<Figure size 504x504 with 3 Axes>"
            ],
            "image/png": "[encoded data removed]"
          },
          "metadata": {
            "needs_background": "light"
          }
        }
      ]
    },
    {
      "cell_type": "markdown",
      "source": [
        "Завдання 3"
      ],
      "metadata": {
        "id": "jVgTI72xyevX"
      }
    },
    {
      "cell_type": "code",
      "source": [
        "tf.random.set_seed(42)\n",
        "\n",
        "\n",
        "model = tf.keras.Sequential([\n",
        "  tf.keras.layers.Flatten(input_shape=(28, 28)),\n",
        "  tf.keras.layers.Dense(4, activation=\"relu\"),\n",
        "  tf.keras.layers.Dense(4, activation=\"relu\"),\n",
        "  tf.keras.layers.Dense(10, activation=\"softmax\") \n",
        "])\n",
        "\n",
        "\n",
        "model.compile(loss=tf.keras.losses.SparseCategoricalCrossentropy(),\n",
        "                 optimizer=tf.keras.optimizers.Adam(),\n",
        "                 metrics=[\"accuracy\"])\n",
        "\n",
        "# Create the learning rate callback\n",
        "lr_scheduler = tf.keras.callbacks.LearningRateScheduler(lambda epoch: 1e-3 *10**(epoch/20))\n",
        "\n",
        "find_lr_history = model.fit(new_train_data,\n",
        "                    new_train_labels,\n",
        "                    epochs=40,\n",
        "                    validation_data=(new_test_data, new_test_labels),\n",
        "                    callbacks=[lr_scheduler])"
      ],
      "metadata": {
        "colab": {
          "base_uri": "https://localhost:8080/"
        },
        "id": "-k6Ns3J3yfHo",
        "outputId": "24263898-b18d-4a35-c898-972800a1342d"
      },
      "execution_count": 45,
      "outputs": [
        {
          "output_type": "stream",
          "name": "stdout",
          "text": [
            "Epoch 1/40\n",
            "563/563 [==============================] - 2s 2ms/step - loss: 0.3836 - accuracy: 0.8870 - val_loss: 0.1261 - val_accuracy: 0.9603 - lr: 0.0010\n",
            "Epoch 2/40\n",
            "563/563 [==============================] - 1s 2ms/step - loss: 0.1068 - accuracy: 0.9657 - val_loss: 0.0901 - val_accuracy: 0.9673 - lr: 0.0011\n",
            "Epoch 3/40\n",
            "563/563 [==============================] - 1s 2ms/step - loss: 0.0865 - accuracy: 0.9721 - val_loss: 0.0901 - val_accuracy: 0.9650 - lr: 0.0013\n",
            "Epoch 4/40\n",
            "563/563 [==============================] - 1s 3ms/step - loss: 0.0773 - accuracy: 0.9736 - val_loss: 0.0835 - val_accuracy: 0.9703 - lr: 0.0014\n",
            "Epoch 5/40\n",
            "563/563 [==============================] - 2s 3ms/step - loss: 0.0718 - accuracy: 0.9744 - val_loss: 0.0954 - val_accuracy: 0.9640 - lr: 0.0016\n",
            "Epoch 6/40\n",
            "563/563 [==============================] - 1s 2ms/step - loss: 0.0711 - accuracy: 0.9756 - val_loss: 0.0724 - val_accuracy: 0.9710 - lr: 0.0018\n",
            "Epoch 7/40\n",
            "563/563 [==============================] - 1s 2ms/step - loss: 0.0666 - accuracy: 0.9766 - val_loss: 0.0694 - val_accuracy: 0.9747 - lr: 0.0020\n",
            "Epoch 8/40\n",
            "563/563 [==============================] - 1s 2ms/step - loss: 0.0639 - accuracy: 0.9770 - val_loss: 0.0641 - val_accuracy: 0.9767 - lr: 0.0022\n",
            "Epoch 9/40\n",
            "563/563 [==============================] - 1s 2ms/step - loss: 0.0607 - accuracy: 0.9791 - val_loss: 0.1137 - val_accuracy: 0.9593 - lr: 0.0025\n",
            "Epoch 10/40\n",
            "563/563 [==============================] - 1s 2ms/step - loss: 0.0600 - accuracy: 0.9791 - val_loss: 0.0690 - val_accuracy: 0.9773 - lr: 0.0028\n",
            "Epoch 11/40\n",
            "563/563 [==============================] - 1s 2ms/step - loss: 0.0589 - accuracy: 0.9798 - val_loss: 0.0787 - val_accuracy: 0.9710 - lr: 0.0032\n",
            "Epoch 12/40\n",
            "563/563 [==============================] - 1s 2ms/step - loss: 0.0571 - accuracy: 0.9801 - val_loss: 0.0634 - val_accuracy: 0.9760 - lr: 0.0035\n",
            "Epoch 13/40\n",
            "563/563 [==============================] - 1s 2ms/step - loss: 0.0555 - accuracy: 0.9804 - val_loss: 0.0733 - val_accuracy: 0.9747 - lr: 0.0040\n",
            "Epoch 14/40\n",
            "563/563 [==============================] - 1s 2ms/step - loss: 0.0545 - accuracy: 0.9812 - val_loss: 0.0679 - val_accuracy: 0.9757 - lr: 0.0045\n",
            "Epoch 15/40\n",
            "563/563 [==============================] - 1s 2ms/step - loss: 0.0556 - accuracy: 0.9801 - val_loss: 0.0735 - val_accuracy: 0.9703 - lr: 0.0050\n",
            "Epoch 16/40\n",
            "563/563 [==============================] - 1s 2ms/step - loss: 0.0582 - accuracy: 0.9807 - val_loss: 0.0596 - val_accuracy: 0.9790 - lr: 0.0056\n",
            "Epoch 17/40\n",
            "563/563 [==============================] - 1s 2ms/step - loss: 0.0543 - accuracy: 0.9808 - val_loss: 0.0704 - val_accuracy: 0.9783 - lr: 0.0063\n",
            "Epoch 18/40\n",
            "563/563 [==============================] - 1s 2ms/step - loss: 0.0531 - accuracy: 0.9814 - val_loss: 0.0903 - val_accuracy: 0.9697 - lr: 0.0071\n",
            "Epoch 19/40\n",
            "563/563 [==============================] - 1s 2ms/step - loss: 0.0584 - accuracy: 0.9807 - val_loss: 0.0815 - val_accuracy: 0.9680 - lr: 0.0079\n",
            "Epoch 20/40\n",
            "563/563 [==============================] - 1s 2ms/step - loss: 0.0600 - accuracy: 0.9784 - val_loss: 0.0711 - val_accuracy: 0.9723 - lr: 0.0089\n",
            "Epoch 21/40\n",
            "563/563 [==============================] - 1s 2ms/step - loss: 0.0569 - accuracy: 0.9806 - val_loss: 0.0589 - val_accuracy: 0.9790 - lr: 0.0100\n",
            "Epoch 22/40\n",
            "563/563 [==============================] - 1s 2ms/step - loss: 0.0595 - accuracy: 0.9789 - val_loss: 0.0786 - val_accuracy: 0.9693 - lr: 0.0112\n",
            "Epoch 23/40\n",
            "563/563 [==============================] - 1s 2ms/step - loss: 0.0604 - accuracy: 0.9779 - val_loss: 0.0702 - val_accuracy: 0.9733 - lr: 0.0126\n",
            "Epoch 24/40\n",
            "563/563 [==============================] - 1s 2ms/step - loss: 0.0527 - accuracy: 0.9822 - val_loss: 0.0628 - val_accuracy: 0.9767 - lr: 0.0141\n",
            "Epoch 25/40\n",
            "563/563 [==============================] - 1s 2ms/step - loss: 0.0584 - accuracy: 0.9802 - val_loss: 0.1200 - val_accuracy: 0.9653 - lr: 0.0158\n",
            "Epoch 26/40\n",
            "563/563 [==============================] - 1s 2ms/step - loss: 0.0656 - accuracy: 0.9783 - val_loss: 0.0740 - val_accuracy: 0.9737 - lr: 0.0178\n",
            "Epoch 27/40\n",
            "563/563 [==============================] - 1s 2ms/step - loss: 0.0601 - accuracy: 0.9790 - val_loss: 0.0614 - val_accuracy: 0.9797 - lr: 0.0200\n",
            "Epoch 28/40\n",
            "563/563 [==============================] - 1s 2ms/step - loss: 0.0632 - accuracy: 0.9774 - val_loss: 0.0632 - val_accuracy: 0.9790 - lr: 0.0224\n",
            "Epoch 29/40\n",
            "563/563 [==============================] - 1s 2ms/step - loss: 0.0621 - accuracy: 0.9787 - val_loss: 0.0689 - val_accuracy: 0.9723 - lr: 0.0251\n",
            "Epoch 30/40\n",
            "563/563 [==============================] - 1s 2ms/step - loss: 0.0651 - accuracy: 0.9791 - val_loss: 0.0751 - val_accuracy: 0.9787 - lr: 0.0282\n",
            "Epoch 31/40\n",
            "563/563 [==============================] - 1s 2ms/step - loss: 0.0720 - accuracy: 0.9776 - val_loss: 0.1252 - val_accuracy: 0.9577 - lr: 0.0316\n",
            "Epoch 32/40\n",
            "563/563 [==============================] - 1s 2ms/step - loss: 0.0645 - accuracy: 0.9798 - val_loss: 0.0919 - val_accuracy: 0.9750 - lr: 0.0355\n",
            "Epoch 33/40\n",
            "563/563 [==============================] - 1s 2ms/step - loss: 0.0934 - accuracy: 0.9735 - val_loss: 0.1673 - val_accuracy: 0.9460 - lr: 0.0398\n",
            "Epoch 34/40\n",
            "563/563 [==============================] - 1s 2ms/step - loss: 0.1100 - accuracy: 0.9653 - val_loss: 0.0898 - val_accuracy: 0.9710 - lr: 0.0447\n",
            "Epoch 35/40\n",
            "563/563 [==============================] - 1s 2ms/step - loss: 0.0973 - accuracy: 0.9708 - val_loss: 0.1321 - val_accuracy: 0.9680 - lr: 0.0501\n",
            "Epoch 36/40\n",
            "563/563 [==============================] - 1s 2ms/step - loss: 0.1423 - accuracy: 0.9625 - val_loss: 0.2390 - val_accuracy: 0.9247 - lr: 0.0562\n",
            "Epoch 37/40\n",
            "563/563 [==============================] - 1s 2ms/step - loss: 0.1220 - accuracy: 0.9693 - val_loss: 0.1592 - val_accuracy: 0.9587 - lr: 0.0631\n",
            "Epoch 38/40\n",
            "563/563 [==============================] - 1s 2ms/step - loss: 0.1000 - accuracy: 0.9705 - val_loss: 0.0934 - val_accuracy: 0.9720 - lr: 0.0708\n",
            "Epoch 39/40\n",
            "563/563 [==============================] - 1s 2ms/step - loss: 0.2316 - accuracy: 0.9186 - val_loss: 0.1285 - val_accuracy: 0.9620 - lr: 0.0794\n",
            "Epoch 40/40\n",
            "563/563 [==============================] - 1s 2ms/step - loss: 0.1572 - accuracy: 0.9627 - val_loss: 0.1326 - val_accuracy: 0.9533 - lr: 0.0891\n"
          ]
        }
      ]
    },
    {
      "cell_type": "markdown",
      "source": [
        "Завдання 4"
      ],
      "metadata": {
        "id": "qyGUgMaYz-zH"
      }
    },
    {
      "cell_type": "code",
      "source": [
        "lrs = 1e-3 * (10**(np.arange(40)/20))\n",
        "plt.semilogx(lrs, find_lr_history.history[\"loss\"]) \n",
        "plt.xlabel(\"Learning rate\")\n",
        "plt.ylabel(\"Loss\")\n",
        "plt.title(\"Finding the ideal learning rate\");"
      ],
      "metadata": {
        "colab": {
          "base_uri": "https://localhost:8080/",
          "height": 299
        },
        "id": "FACVP-lUz--L",
        "outputId": "eeb1cab9-a2d3-46d3-e88e-647402ee93c7"
      },
      "execution_count": 46,
      "outputs": [
        {
          "output_type": "display_data",
          "data": {
            "text/plain": [
              "<Figure size 432x288 with 1 Axes>"
            ],
            "image/png": "[encoded data removed]"
          },
          "metadata": {
            "needs_background": "light"
          }
        }
      ]
    },
    {
      "cell_type": "code",
      "source": [
        "from sklearn.metrics import confusion_matrix\n",
        "import pandas as pd\n",
        "import seaborn as sns\n",
        "\n",
        "test_loss, test_acc = model.evaluate(new_test_data, new_test_labels)\n",
        "print('Test accuracy:', test_acc)\n",
        "\n",
        "predictions = model.predict(new_test_data)\n",
        "y_predictions = []\n",
        "for i in predictions:\n",
        "  i_max = np.argmax(i)\n",
        "  y_predictions = np.append(y_predictions, i_max)\n",
        "\n",
        "\n",
        "cm = confusion_matrix(new_test_labels, y_predictions)\n",
        "dataframe_cm = pd.DataFrame(cm, index = class_names, columns = class_names)\n",
        "plt.figure(figsize=(7,7))\n",
        "sns.heatmap(dataframe_cm, annot=True, cmap=\"YlOrBr\")\n",
        "plt.title('Confusion Matrix')\n",
        "plt.ylabel('Actual')\n",
        "plt.xlabel('Predicted')\n",
        "plt.show()"
      ],
      "metadata": {
        "colab": {
          "base_uri": "https://localhost:8080/",
          "height": 493
        },
        "id": "bZJotmG81SEI",
        "outputId": "5d4962a4-d672-4542-8f78-d97b525cf5d2"
      },
      "execution_count": 50,
      "outputs": [
        {
          "output_type": "stream",
          "name": "stdout",
          "text": [
            "94/94 [==============================] - 0s 1ms/step - loss: 0.1326 - accuracy: 0.9533\n",
            "Test accuracy: 0.95333331823349\n"
          ]
        },
        {
          "output_type": "display_data",
          "data": {
            "text/plain": [
              "<Figure size 504x504 with 2 Axes>"
            ],
            "image/png": "[encoded data removed]"
          },
          "metadata": {
            "needs_background": "light"
          }
        }
      ]
    }
  ]
}