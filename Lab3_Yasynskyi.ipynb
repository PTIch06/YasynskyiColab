{
  "nbformat": 4,
  "nbformat_minor": 0,
  "metadata": {
    "colab": {
      "name": "Untitled2.ipynb",
      "provenance": [],
      "collapsed_sections": [],
      "authorship_tag": "ABX9TyPcJlaA6EciKGBLB4Z//AMV",
      "include_colab_link": true
    },
    "kernelspec": {
      "name": "python3",
      "display_name": "Python 3"
    },
    "language_info": {
      "name": "python"
    }
  },
  "cells": [
    {
      "cell_type": "markdown",
      "metadata": {
        "id": "view-in-github",
        "colab_type": "text"
      },
      "source": [
        "<a href=\"https://colab.research.google.com/github/PTIch06/YasynskyiColab/blob/main/Lab3_Yasynskyi.ipynb\" target=\"_parent\"><img src=\"https://colab.research.google.com/assets/colab-badge.svg\" alt=\"Open In Colab\"/></a>"
      ]
    },
    {
      "cell_type": "markdown",
      "source": [
        "#Лабораторна робота №3\n",
        "##з дисципліни \"Нейронні мережі\"\n",
        "###студента групи КН-31/2\n",
        "###Ясинського Дениса\n",
        "###Варіант №11"
      ],
      "metadata": {
        "id": "rU35teId18Iw"
      }
    },
    {
      "cell_type": "markdown",
      "source": [
        "З використанням бібліотеки Sklearn вирішити задачу регресії "
      ],
      "metadata": {
        "id": "bgNgFC381yug"
      }
    },
    {
      "cell_type": "code",
      "source": [
        "from sklearn.datasets import make_regression\n",
        "from matplotlib import pyplot\n",
        "from sklearn.model_selection import train_test_split\n",
        "from sklearn.linear_model import LinearRegression\n",
        "import pandas as pd\n",
        "from sklearn import metrics\n",
        "import numpy as np"
      ],
      "metadata": {
        "id": "0KVWLOby1xPe"
      },
      "execution_count": 14,
      "outputs": []
    },
    {
      "cell_type": "markdown",
      "source": [
        "Згенерувати набір даних за допомогою означеної функції, з використанням якнайбільшої кількості параметрів. \n",
        "Розмірність набору даних прийняти у вигляді (100000х(30-n)), де n - номер за списком."
      ],
      "metadata": {
        "id": "cP0J6PP19tAc"
      }
    },
    {
      "cell_type": "code",
      "source": [
        "X, y = make_regression(n_samples=1900000, n_features=1, noise=24)\n",
        "\n",
        "pyplot.scatter(X,y)\n",
        "pyplot.show()"
      ],
      "metadata": {
        "colab": {
          "base_uri": "https://localhost:8080/",
          "height": 265
        },
        "id": "uotrF6qu9exb",
        "outputId": "7bca90d4-2713-4033-8cae-c0dadbf4e359"
      },
      "execution_count": 15,
      "outputs": [
        {
          "output_type": "display_data",
          "data": {
            "text/plain": [
              "<Figure size 432x288 with 1 Axes>"
            ],
            "image/png": "[encoded data removed]"
          },
          "metadata": {
            "needs_background": "light"
          }
        }
      ]
    },
    {
      "cell_type": "markdown",
      "source": [
        "Здійснити моделювання згенерованого набору даних та візуалізацію результатів."
      ],
      "metadata": {
        "id": "fLaSrFGP9jmG"
      }
    },
    {
      "cell_type": "code",
      "source": [
        "# test + learning\n",
        "X_train, X_test, y_train, y_test = train_test_split(X, y, test_size=0.2, random_state=0)\n",
        "\n",
        "# learning\n",
        "regressor = LinearRegression().fit(X_train, y_train)\n",
        "y_pred = regressor.predict(X_test)\n",
        "\n",
        "pyplot.scatter(X_test,y_pred)\n",
        "pyplot.show()"
      ],
      "metadata": {
        "colab": {
          "base_uri": "https://localhost:8080/",
          "height": 266
        },
        "id": "_hZuTEJ99mnk",
        "outputId": "72b77ca7-d2b0-4028-fb12-133fdcef5577"
      },
      "execution_count": 18,
      "outputs": [
        {
          "output_type": "display_data",
          "data": {
            "text/plain": [
              "<Figure size 432x288 with 1 Axes>"
            ],
            "image/png": "[encoded data removed]"
          },
          "metadata": {
            "needs_background": "light"
          }
        }
      ]
    },
    {
      "cell_type": "markdown",
      "source": [
        "Надати значення метрик якості, приклад прогнозування"
      ],
      "metadata": {
        "id": "FOCrlp68Hvqf"
      }
    },
    {
      "cell_type": "code",
      "source": [
        "print('Mean Absolute Error:', metrics.mean_absolute_error(y_test, y_pred))\n",
        "print('Mean Squared Error:', metrics.mean_squared_error(y_test, y_pred))\n",
        "print('Root Mean Squared Error:', np.sqrt(metrics.mean_squared_error(y_test, y_pred)))"
      ],
      "metadata": {
        "colab": {
          "base_uri": "https://localhost:8080/"
        },
        "id": "r5lILW2OOECR",
        "outputId": "c04e20d1-0dcc-4c94-b6f6-e4b0bb6acd20"
      },
      "execution_count": 17,
      "outputs": [
        {
          "output_type": "stream",
          "name": "stdout",
          "text": [
            "Mean Absolute Error: 19.109748272084826\n",
            "Mean Squared Error: 573.6544388584898\n",
            "Root Mean Squared Error: 23.951084294004097\n"
          ]
        }
      ]
    }
  ]
}