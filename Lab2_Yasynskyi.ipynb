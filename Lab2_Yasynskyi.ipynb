{
  "nbformat": 4,
  "nbformat_minor": 0,
  "metadata": {
    "colab": {
      "name": "Untitled1.ipynb",
      "provenance": [],
      "authorship_tag": "ABX9TyMSBuezIllAn8yCEDwl3FeY",
      "include_colab_link": true
    },
    "kernelspec": {
      "name": "python3",
      "display_name": "Python 3"
    },
    "language_info": {
      "name": "python"
    }
  },
  "cells": [
    {
      "cell_type": "markdown",
      "metadata": {
        "id": "view-in-github",
        "colab_type": "text"
      },
      "source": [
        "<a href=\"https://colab.research.google.com/github/PTIch06/YasynskyiColab/blob/main/Lab2_Yasynskyi.ipynb\" target=\"_parent\"><img src=\"https://colab.research.google.com/assets/colab-badge.svg\" alt=\"Open In Colab\"/></a>"
      ]
    },
    {
      "cell_type": "markdown",
      "source": [
        "#Лабораторна робота №2\n",
        "##з дисципліни \"Нейронні мережі\"\n",
        "###студента групи КН-31/2\n",
        "###Ясинського Дениса\n",
        "###Варіант №11"
      ],
      "metadata": {
        "id": "_6na_75HLf05"
      }
    },
    {
      "cell_type": "markdown",
      "source": [
        "- створити набір даних із заданим розподілом (розподіл та розмір за власним рішенням), визначити його властивості (shape, rank, size, axis)"
      ],
      "metadata": {
        "id": "uOdr-RmYM1HI"
      }
    },
    {
      "cell_type": "code",
      "source": [
        "import tensorflow as tf\n",
        "import numpy as np\n",
        "import pandas as pd"
      ],
      "metadata": {
        "id": "2JpBeJkaWvAk"
      },
      "execution_count": 2,
      "outputs": []
    },
    {
      "cell_type": "code",
      "source": [
        "data = np.random.uniform(0,10, size=(13, 13)).astype(int)\n",
        "tensor = tf.convert_to_tensor(data)\n",
        "print(tensor)"
      ],
      "metadata": {
        "colab": {
          "base_uri": "https://localhost:8080/"
        },
        "id": "iazUvysMVjmG",
        "outputId": "7705e4e4-f3b9-44f5-9627-90755bd138e4"
      },
      "execution_count": 9,
      "outputs": [
        {
          "output_type": "execute_result",
          "data": {
            "text/plain": [
              "<tf.Tensor: shape=(13, 13), dtype=int64, numpy=\n",
              "array([[7, 7, 3, 7, 9, 8, 8, 5, 1, 2, 6, 0, 6],\n",
              "       [1, 9, 0, 6, 6, 1, 7, 7, 9, 6, 1, 1, 9],\n",
              "       [7, 6, 8, 3, 9, 3, 6, 4, 8, 9, 4, 1, 8],\n",
              "       [5, 7, 7, 4, 0, 1, 3, 1, 4, 5, 5, 0, 2],\n",
              "       [4, 7, 6, 8, 5, 4, 6, 7, 1, 6, 0, 1, 0],\n",
              "       [6, 0, 2, 2, 0, 8, 3, 3, 1, 6, 8, 8, 8],\n",
              "       [7, 9, 7, 2, 5, 6, 2, 4, 8, 4, 8, 0, 5],\n",
              "       [1, 6, 6, 8, 6, 5, 2, 8, 4, 5, 5, 5, 1],\n",
              "       [3, 8, 1, 5, 9, 8, 0, 2, 6, 2, 9, 9, 1],\n",
              "       [7, 4, 6, 2, 2, 3, 6, 6, 9, 1, 1, 8, 0],\n",
              "       [1, 4, 7, 3, 6, 0, 4, 6, 1, 5, 6, 2, 9],\n",
              "       [8, 0, 9, 2, 4, 3, 4, 5, 9, 1, 9, 6, 2],\n",
              "       [5, 5, 7, 6, 9, 9, 1, 9, 6, 4, 5, 3, 7]])>"
            ]
          },
          "metadata": {},
          "execution_count": 9
        }
      ]
    },
    {
      "cell_type": "markdown",
      "source": [
        "- продемонструвати основні математичні операції над тензорами"
      ],
      "metadata": {
        "id": "OozmrPnSM01a"
      }
    },
    {
      "cell_type": "code",
      "source": [
        "tensor = tf.constant([[1, 2, 3],[4, 5, 6],[7, 8, 9]])"
      ],
      "metadata": {
        "id": "iqjvZkRKca4C"
      },
      "execution_count": 11,
      "outputs": []
    },
    {
      "cell_type": "code",
      "source": [
        "print(tensor)\n",
        "print(tensor + 1)\n",
        "print(tensor * -1)\n",
        "\n",
        "\n",
        "\n",
        "\n",
        "\n",
        "\n",
        "\n"
      ],
      "metadata": {
        "colab": {
          "base_uri": "https://localhost:8080/"
        },
        "id": "xwtJvczLboO4",
        "outputId": "fcb1b266-53f9-4d8a-d7e0-c890834632a7"
      },
      "execution_count": 13,
      "outputs": [
        {
          "output_type": "stream",
          "name": "stdout",
          "text": [
            "tf.Tensor(\n",
            "[[1 2 3]\n",
            " [4 5 6]\n",
            " [7 8 9]], shape=(3, 3), dtype=int32)\n",
            "tf.Tensor(\n",
            "[[ 2  3  4]\n",
            " [ 5  6  7]\n",
            " [ 8  9 10]], shape=(3, 3), dtype=int32)\n",
            "tf.Tensor(\n",
            "[[-1 -2 -3]\n",
            " [-4 -5 -6]\n",
            " [-7 -8 -9]], shape=(3, 3), dtype=int32)\n"
          ]
        }
      ]
    },
    {
      "cell_type": "code",
      "source": [
        "print(tf.abs(tf.multiply(tensor, -1)))\n",
        "print(tf.reduce_max(tensor).numpy())\n",
        "print(tf.reduce_min(tensor).numpy())"
      ],
      "metadata": {
        "colab": {
          "base_uri": "https://localhost:8080/"
        },
        "id": "0DRZ8wcPcfun",
        "outputId": "cca21344-4bcc-4f10-cfc1-dfc982cbf112"
      },
      "execution_count": 22,
      "outputs": [
        {
          "output_type": "stream",
          "name": "stdout",
          "text": [
            "tf.Tensor(\n",
            "[[1 2 3]\n",
            " [4 5 6]\n",
            " [7 8 9]], shape=(3, 3), dtype=int32)\n",
            "9\n",
            "1\n"
          ]
        }
      ]
    },
    {
      "cell_type": "code",
      "source": [
        ""
      ],
      "metadata": {
        "id": "WIxCbUcufDrq"
      },
      "execution_count": null,
      "outputs": []
    },
    {
      "cell_type": "markdown",
      "source": [
        "- провести CRUD операції над даними, reshape, інтеграцію з np.array, pd.DataFrame)"
      ],
      "metadata": {
        "id": "SIiJY1gFM0cu"
      }
    },
    {
      "cell_type": "code",
      "source": [
        "tensor = tf.constant([[1, 2, 3],[4, 5, 6],[7, 8, 9],[10, 11, 12]])"
      ],
      "metadata": {
        "id": "_Rn0Lg9OLnsP"
      },
      "execution_count": 33,
      "outputs": []
    },
    {
      "cell_type": "code",
      "source": [
        "print(tensor)\n",
        "print(tf.reshape(tensor, shape=(1, 12)))"
      ],
      "metadata": {
        "colab": {
          "base_uri": "https://localhost:8080/"
        },
        "id": "O-zWA2qnfpGd",
        "outputId": "8d511da5-7863-4674-d3f2-0cdc38f4fc1d"
      },
      "execution_count": 36,
      "outputs": [
        {
          "output_type": "stream",
          "name": "stdout",
          "text": [
            "tf.Tensor(\n",
            "[[ 1  2  3]\n",
            " [ 4  5  6]\n",
            " [ 7  8  9]\n",
            " [10 11 12]], shape=(4, 3), dtype=int32)\n",
            "tf.Tensor([[ 1  2  3  4  5  6  7  8  9 10 11 12]], shape=(1, 12), dtype=int32)\n"
          ]
        }
      ]
    },
    {
      "cell_type": "code",
      "source": [
        "df = np.array(tensor)\n",
        "df"
      ],
      "metadata": {
        "colab": {
          "base_uri": "https://localhost:8080/"
        },
        "id": "pdsHS22fh4FB",
        "outputId": "ba8b06f1-e4b3-4df4-dc63-bede0cfdacc8"
      },
      "execution_count": 38,
      "outputs": [
        {
          "output_type": "execute_result",
          "data": {
            "text/plain": [
              "array([[ 1,  2,  3],\n",
              "       [ 4,  5,  6],\n",
              "       [ 7,  8,  9],\n",
              "       [10, 11, 12]], dtype=int32)"
            ]
          },
          "metadata": {},
          "execution_count": 38
        }
      ]
    },
    {
      "cell_type": "code",
      "source": [
        "df = pd.DataFrame(tensor)\n",
        "df"
      ],
      "metadata": {
        "colab": {
          "base_uri": "https://localhost:8080/",
          "height": 175
        },
        "id": "ENj6rIskhuIJ",
        "outputId": "9b9d0176-c6b9-4067-ea6c-6f65ec454fc7"
      },
      "execution_count": 35,
      "outputs": [
        {
          "output_type": "execute_result",
          "data": {
            "text/plain": [
              "                                      0                                     1  \\\n",
              "0   tf.Tensor(1, shape=(), dtype=int32)   tf.Tensor(2, shape=(), dtype=int32)   \n",
              "1   tf.Tensor(4, shape=(), dtype=int32)   tf.Tensor(5, shape=(), dtype=int32)   \n",
              "2   tf.Tensor(7, shape=(), dtype=int32)   tf.Tensor(8, shape=(), dtype=int32)   \n",
              "3  tf.Tensor(10, shape=(), dtype=int32)  tf.Tensor(11, shape=(), dtype=int32)   \n",
              "\n",
              "                                      2  \n",
              "0   tf.Tensor(3, shape=(), dtype=int32)  \n",
              "1   tf.Tensor(6, shape=(), dtype=int32)  \n",
              "2   tf.Tensor(9, shape=(), dtype=int32)  \n",
              "3  tf.Tensor(12, shape=(), dtype=int32)  "
            ],
            "text/html": [
              "\n",
              "  <div id=\"df-f3ae16b9-73af-4f12-88fb-9a284ae1ee5a\">\n",
              "    <div class=\"colab-df-container\">\n",
              "      <div>\n",
              "<style scoped>\n",
              "    .dataframe tbody tr th:only-of-type {\n",
              "        vertical-align: middle;\n",
              "    }\n",
              "\n",
              "    .dataframe tbody tr th {\n",
              "        vertical-align: top;\n",
              "    }\n",
              "\n",
              "    .dataframe thead th {\n",
              "        text-align: right;\n",
              "    }\n",
              "</style>\n",
              "<table border=\"1\" class=\"dataframe\">\n",
              "  <thead>\n",
              "    <tr style=\"text-align: right;\">\n",
              "      <th></th>\n",
              "      <th>0</th>\n",
              "      <th>1</th>\n",
              "      <th>2</th>\n",
              "    </tr>\n",
              "  </thead>\n",
              "  <tbody>\n",
              "    <tr>\n",
              "      <th>0</th>\n",
              "      <td>tf.Tensor(1, shape=(), dtype=int32)</td>\n",
              "      <td>tf.Tensor(2, shape=(), dtype=int32)</td>\n",
              "      <td>tf.Tensor(3, shape=(), dtype=int32)</td>\n",
              "    </tr>\n",
              "    <tr>\n",
              "      <th>1</th>\n",
              "      <td>tf.Tensor(4, shape=(), dtype=int32)</td>\n",
              "      <td>tf.Tensor(5, shape=(), dtype=int32)</td>\n",
              "      <td>tf.Tensor(6, shape=(), dtype=int32)</td>\n",
              "    </tr>\n",
              "    <tr>\n",
              "      <th>2</th>\n",
              "      <td>tf.Tensor(7, shape=(), dtype=int32)</td>\n",
              "      <td>tf.Tensor(8, shape=(), dtype=int32)</td>\n",
              "      <td>tf.Tensor(9, shape=(), dtype=int32)</td>\n",
              "    </tr>\n",
              "    <tr>\n",
              "      <th>3</th>\n",
              "      <td>tf.Tensor(10, shape=(), dtype=int32)</td>\n",
              "      <td>tf.Tensor(11, shape=(), dtype=int32)</td>\n",
              "      <td>tf.Tensor(12, shape=(), dtype=int32)</td>\n",
              "    </tr>\n",
              "  </tbody>\n",
              "</table>\n",
              "</div>\n",
              "      <button class=\"colab-df-convert\" onclick=\"convertToInteractive('df-f3ae16b9-73af-4f12-88fb-9a284ae1ee5a')\"\n",
              "              title=\"Convert this dataframe to an interactive table.\"\n",
              "              style=\"display:none;\">\n",
              "        \n",
              "  <svg xmlns=\"http://www.w3.org/2000/svg\" height=\"24px\"viewBox=\"0 0 24 24\"\n",
              "       width=\"24px\">\n",
              "    <path d=\"M0 0h24v24H0V0z\" fill=\"none\"/>\n",
              "    <path d=\"M18.56 5.44l.94 2.06.94-2.06 2.06-.94-2.06-.94-.94-2.06-.94 2.06-2.06.94zm-11 1L8.5 8.5l.94-2.06 2.06-.94-2.06-.94L8.5 2.5l-.94 2.06-2.06.94zm10 10l.94 2.06.94-2.06 2.06-.94-2.06-.94-.94-2.06-.94 2.06-2.06.94z\"/><path d=\"M17.41 7.96l-1.37-1.37c-.4-.4-.92-.59-1.43-.59-.52 0-1.04.2-1.43.59L10.3 9.45l-7.72 7.72c-.78.78-.78 2.05 0 2.83L4 21.41c.39.39.9.59 1.41.59.51 0 1.02-.2 1.41-.59l7.78-7.78 2.81-2.81c.8-.78.8-2.07 0-2.86zM5.41 20L4 18.59l7.72-7.72 1.47 1.35L5.41 20z\"/>\n",
              "  </svg>\n",
              "      </button>\n",
              "      \n",
              "  <style>\n",
              "    .colab-df-container {\n",
              "      display:flex;\n",
              "      flex-wrap:wrap;\n",
              "      gap: 12px;\n",
              "    }\n",
              "\n",
              "    .colab-df-convert {\n",
              "      background-color: #E8F0FE;\n",
              "      border: none;\n",
              "      border-radius: 50%;\n",
              "      cursor: pointer;\n",
              "      display: none;\n",
              "      fill: #1967D2;\n",
              "      height: 32px;\n",
              "      padding: 0 0 0 0;\n",
              "      width: 32px;\n",
              "    }\n",
              "\n",
              "    .colab-df-convert:hover {\n",
              "      background-color: #E2EBFA;\n",
              "      box-shadow: 0px 1px 2px rgba(60, 64, 67, 0.3), 0px 1px 3px 1px rgba(60, 64, 67, 0.15);\n",
              "      fill: #174EA6;\n",
              "    }\n",
              "\n",
              "    [theme=dark] .colab-df-convert {\n",
              "      background-color: #3B4455;\n",
              "      fill: #D2E3FC;\n",
              "    }\n",
              "\n",
              "    [theme=dark] .colab-df-convert:hover {\n",
              "      background-color: #434B5C;\n",
              "      box-shadow: 0px 1px 3px 1px rgba(0, 0, 0, 0.15);\n",
              "      filter: drop-shadow(0px 1px 2px rgba(0, 0, 0, 0.3));\n",
              "      fill: #FFFFFF;\n",
              "    }\n",
              "  </style>\n",
              "\n",
              "      <script>\n",
              "        const buttonEl =\n",
              "          document.querySelector('#df-f3ae16b9-73af-4f12-88fb-9a284ae1ee5a button.colab-df-convert');\n",
              "        buttonEl.style.display =\n",
              "          google.colab.kernel.accessAllowed ? 'block' : 'none';\n",
              "\n",
              "        async function convertToInteractive(key) {\n",
              "          const element = document.querySelector('#df-f3ae16b9-73af-4f12-88fb-9a284ae1ee5a');\n",
              "          const dataTable =\n",
              "            await google.colab.kernel.invokeFunction('convertToInteractive',\n",
              "                                                     [key], {});\n",
              "          if (!dataTable) return;\n",
              "\n",
              "          const docLinkHtml = 'Like what you see? Visit the ' +\n",
              "            '<a target=\"_blank\" href=https://colab.research.google.com/notebooks/data_table.ipynb>data table notebook</a>'\n",
              "            + ' to learn more about interactive tables.';\n",
              "          element.innerHTML = '';\n",
              "          dataTable['output_type'] = 'display_data';\n",
              "          await google.colab.output.renderOutput(dataTable, element);\n",
              "          const docLink = document.createElement('div');\n",
              "          docLink.innerHTML = docLinkHtml;\n",
              "          element.appendChild(docLink);\n",
              "        }\n",
              "      </script>\n",
              "    </div>\n",
              "  </div>\n",
              "  "
            ]
          },
          "metadata": {},
          "execution_count": 35
        }
      ]
    }
  ]
}